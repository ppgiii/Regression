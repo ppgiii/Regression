{
 "cells": [
  {
   "cell_type": "markdown",
   "metadata": {},
   "source": [
    "\n",
    "## Linear Regression through python.\n",
    "---\n",
    "### Introduction  \n",
    "This exercise attempts to learn linear regression by using equations from the textbook \"Introduction to Linear Regression Analysis\" with python.  It will use python libraries' statsmodels, scipy, and scikit-learn for comparison and show the differences in implementation.  Visualization of the results uses matplotlib, pandas plot(), & seaborn.  \n",
    "\n",
    "Linear regression is a very common method to do regression analysis.  The interest is to find the relationship between the feature variable and its response.  This is hopefully the first of many notes on how to apply python for regression analysis.\n",
    "\n"
   ]
  },
  {
   "cell_type": "markdown",
   "metadata": {},
   "source": [
    "### Methods  \n",
    "The data comes from the textbook with one feature variable, regressor, and one observe data, response.  This is loaded using panda and arranged to show two panda methods for data preparation:  \n",
    "- rename()  \n",
    "- set_index()  \n",
    "\n",
    "For best practice, raw data should not be manipulated but should be either copied to a new dataset or extract the relevant variables into a new dataset.  For this exercise, the dataset is small and already modified for the calculation so will directly use and manipulate it.\n",
    "\n",
    "A scatter plot suffices to show the relationship between the variables of interest as well as an overlay of the predicted equation or model over the data.\n",
    "\n",
    "Three python visualization tools plot the relationship: matplotlib, pandas extension of matplotlib, and seaborn.\n",
    "\n",
    "Lastly, the python libraries statsmodels, scipy and scikit learn that specifically computes linear regression provides an example for practical use.\n",
    "\n",
    "##### A note about seaborn.  \n",
    "The library contains 2 linear regression [methods](https://seaborn.pydata.org/tutorial/regression.html): regplot() & lmplot().   regplot() is used to show certain methods but both can be used.  Also, it computes the residuals and plots the 95% confidence interval.  This is helpful for quick exploratory data analysis.\n"
   ]
  },
  {
   "cell_type": "markdown",
   "metadata": {},
   "source": [
    "### Discussion  \n",
    "To learn linear regression, it is ideal to understand how the method derives from the equations.  To generate the linear equation for the model of the dataset, <div align=\"center\">$\\hat{y} = \\hat{\\beta_0} + \\hat{\\beta_1} x$  </div>\n",
    "\n",
    "the coefficients need to be calculated as follows:  \n",
    "$$\\hat{\\beta_1} = \\frac{S_{xy}}{S_{xx}}$$  \n",
    "where  \n",
    "$$S_{xy} = \\displaystyle\\sum_{i=1}^{n} {(x_i - \\bar{x})}^2$$  \n",
    "$$S_{xx} = \\displaystyle\\sum_{i=1}^{n} (x_i - \\bar{x})$$  \n",
    "Then the residuals are  \n",
    "$$e_i = y_i - \\hat{y_i}$$  \n",
    "then $\\hat{\\beta_0} = \\bar{y} - \\hat{\\beta_1}\\bar{x}$ , where $\\bar{y}$ and $\\bar{x}$ are the variables mean, respectively.  \n",
    "\n",
    "Notes:  \n",
    "$i=1$ counts nominally while in python index starts at 0.  \n",
    "$x_i$ & $y_i$ are the independent observations of the data  \n",
    "$n$ is the number of samples  \n",
    "\n",
    "Residuals are important because they show how good the fit of the predicted model is in relation to the data.  A large variation within the residuals would indicate the model is not fitting the data.\n",
    "\n",
    "There is need to estimate the errors of the fitted data because obtaining the accuracy of the model is based on assumptions.  To obtain this estimate, the calculation of the **residual** or **error sum of squares** is obtained by\n",
    "$$SS_{Res} = SS_{T} - \\hat{\\beta_1}S_{xy}$$\n",
    "For the **unbiased estimator of $\\sigma^2$**,\n",
    "$$\\hat{\\sigma^2} = \\frac{SS_{Res}}{n-2} = MS_{Res}$$  \n",
    "and is called the **residual mean square**.  The square root value is the standard deviation or **standard error of regression**.  This is the **model-dependent** estimate of $\\sigma^2$.  \n",
    "To compute $SS_{T}$,  \n",
    "$$SS_{T} = \\sum_{i=1}^{n} (y_{i}^2 - n\\bar{y}^2)$$  \n",
    "so,\n",
    "$$\\hat{\\sigma}^2 = \\frac{SS_{Res}}{n-2}$$  \n",
    "and the standard error of regression,\n",
    "$$se = \\sqrt{\\hat\\sigma^2}$$  \n",
    "\n",
    "#### Hypothesis Test on the slope and intercept.  \n",
    "\n",
    "The estimation of the data through the use of a model has many assumptions.  To test to see if the model fit the data and confined within the assumptions, this requires the procedure of at least 2 well common test, hypothesis testing and confidence interval.\n",
    "\n",
    "Another assumption is that the error must be normally and independently distributed within the mean and variance.  The hypothesis test of the linear regression is known as the **significance of regression**.  The null hypothesis $H_{0}:\\beta_1 = 0$ and the alternate hypothesis $H_{1}:\\beta_1\\neq 0$ examines the relationship between the variables of interest.  If the slope is 0, the null hypothesis means there is no linear relationship between the variables.  Thus, the test rejects the null hypothesis if there is a linear relationship or fails to reject if there is no relationship.\n",
    "\n",
    "The test procedure is to evaluate $t_0$, the test statistic,\n",
    "$$t_0 = \\frac{\\hat{\\beta_1}}{\\sqrt{\\frac{MS_{Res}}{S_{xx}}}}$$  \n",
    "the denominator is the **standard error of the slope**,\n",
    "$$se(\\hat\\beta_1)=\\sqrt{\\frac{MS_{Res}}{S_{xx}}}$$  \n",
    "Similarly, for the intercept,\n",
    "$$t_0 = \\frac{\\hat{\\beta_0}}{ \\sqrt{ MS_{Res}(\\frac{1}{n} + \\frac{\\bar{x}^2}{S_{xx}}) } }$$  \n",
    "where the denominator is the **standard error of the intercept**,\n",
    "$$se(\\hat{\\beta_0}) = \\sqrt{ MS_{Res}(\\frac{1}{n} + \\frac{\\bar{x}^2}{S_{xx}}) }$$  \n",
    "The residual sum of squares follow a $\\chi_{n-2}^{2}$ distribution so the observe value of $t_0$ is compared with the t-distribution value for a given $\\alpha$, the confidence level typically 5%.  Thus,\n",
    "$$\\mid{t_0}\\mid > t_{\\alpha/2,n-2}$$  \n",
    "rejects the null hypothesis, implying there is a linear relationship among the variables.\n"
   ]
  },
  {
   "cell_type": "markdown",
   "metadata": {},
   "source": [
    "### Results  \n",
    "Upon loading the data, examination shows one feature variable, xi, and one response variable, yi.  Also, the variables are continuous and quantitative.\n",
    "\n",
    "In preparing the data, variable names are changed or renamed simply for convenience and to intuitively identify its purpose based on the name.  It also makes it easy to plot with shorter names.  In addition, the computation of several results such as $S_{xx}$ & $S_{xy}$ expands the dataset to hold the values.\n",
    "\n",
    "Plots show the clear relationship between the two variables and a fitted line from the calculated regression is also shown.  A comparison of the three different ways to plot the data provides examples of visual inspection.\n",
    "\n",
    "Seaborn's plot library computes the [linear regression](https://seaborn.pydata.org/tutorial/regression.html) as well as the 95% confidence interval range.  A useful feature for examining the relationship right away.\n",
    "\n",
    "Lastly, the python libraries compute the results of the regression and these are compared to the calculations.\n",
    "\n",
    "Statsmodels provide two ways of implementing the OLS class (Ordinary Least Squares).  The built-in method of using the design matrix requires the additional step of invoking add_constant().  The other method uses the R style invocation.  Both methods are shown.\n",
    "\n",
    "Scipy provides a simple linear regression method for univariate variables.  However, for more in-depth computation in regression analysis, 2 other methods can be found in the optimize class:  \n",
    "- curve_fit  \n",
    "- leastsq  \n",
    "\n",
    "The hypothesis test is calculated using the equations above and compares well with the results obtained from the other libraries.\n",
    "\n",
    "### TODO\n",
    "Additional writeup will cover confidence interval, multivariate regression with linear coefficients and validation."
   ]
  }
 ],
 "metadata": {
  "language_info": {
   "codemirror_mode": {
    "name": "ipython",
    "version": 3
   },
   "file_extension": ".py",
   "mimetype": "text/x-python",
   "name": "python",
   "nbconvert_exporter": "python",
   "pygments_lexer": "ipython3",
   "version": 3
  },
  "orig_nbformat": 2
 },
 "nbformat": 4,
 "nbformat_minor": 2
}