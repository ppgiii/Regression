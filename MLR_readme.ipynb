{
 "metadata": {
  "language_info": {
   "codemirror_mode": {
    "name": "ipython",
    "version": 3
   },
   "file_extension": ".py",
   "mimetype": "text/x-python",
   "name": "python",
   "nbconvert_exporter": "python",
   "pygments_lexer": "ipython3",
   "version": 3
  },
  "orig_nbformat": 2
 },
 "nbformat": 4,
 "nbformat_minor": 2,
 "cells": [
  {
   "cell_type": "markdown",
   "metadata": {},
   "source": [
    "This notebook shows the derivation and application of multiple linear regression with linear coefficients.\n",
    "\n",
    "It is important to identify the eqaution in question that it can be dervied as linear coefficients even if the variables are not, e.g.\n",
    "$$y = \\beta_0 + \\beta_1 x + \\beta_2 x^2$$\n",
    "\n",
    "can be transformed to a linear equation with $x_1 = x$ and $x_2 = x^2$,\n",
    "$$y = \\beta_0 + \\beta_1 x_1 + \\beta_2 x_2$$\n",
    "\n",
    "For $x_1 = x_2 = 0$, \"$\\beta_0$ is the mean of $y$; otherwise, it has no physical interpretation.\"   $\\beta_1$ is the expected change in response $y$ per unit change in $x_1$.  Similarly, $\\beta_2$ interpreted with $x_2$.\n",
    "\n",
    "For a general response $y$ with $k$ regressors, the equation  \n",
    "$$y = \\beta_0 + \\beta_1 x_1 + ... + \\beta_k x_k + \\epsilon$$  \n",
    "\n",
    "is the multiple linear regression with $k$ regressors.\n",
    "\n",
    "For multiple functions of y,\n",
    "$$y_i = \\beta_0 + \\beta_1 x_{i_1} + ... + \\beta_k x_{i_k} + \\epsilon_i$$\n",
    "\n",
    "$$ = \\beta_0 + \\sum_{j=1}^{k}\\beta_j x_{i_j} + \\epsilon_i$$  \n",
    "\n",
    "The least square function:  \n",
    "$$S(\\beta_0, \\beta_1, ... , \\beta_k) =  \n",
    "\\sum_{i=1}^{n} \\epsilon_i^2 = \\sum_{i=1}^{n} (y_i - \\beta_0 - \\sum_{j=1}^{k} \\beta_j x_{i_j})$$  \n",
    "\n",
    "minimizing S partial to the coefficients, the least squares estimators must satisfy:  \n",
    "$$\\frac{\\partial S}{\\partial \\beta_0}|_{\\hat{\\beta_0},\\hat{\\beta_1},...,\\hat{\\beta_k}} = -2 \\sum_{i=1}^{n}(y_i - \\hat{\\beta_0} - \\sum_{j=1}^{k} \\hat{\\beta_j} x_{i_j}) = 0$$  \n",
    "\n",
    "and\n",
    "$$\\frac{\\partial S}{\\partial \\beta_j}|_{\\hat{\\beta_0},\\hat{\\beta_1},...,\\hat{\\beta_k}} = -2 \\sum_{i=1}^{n}(y_i - \\hat{\\beta_0} - \\sum_{j=1}^{k} \\hat{\\beta_j} x_{i_j}) x_{i_j} = 0, j = 1,..,k $$  \n",
    "\n"
   ]
  },
  {
   "cell_type": "markdown",
   "metadata": {},
   "source": [
    "After simplification, the equation reduces to the familiar linear equation in vector form,\n",
    "$$\\mathbf{y} = \\mathbf{X} \\boldsymbol{\\beta} + \\boldsymbol{\\epsilon}$$  \n",
    "\n",
    "where\n",
    "\n",
    "$$\\mathbf{y} = \\begin{bmatrix} y_1 \\\\ y_2 \\\\ .\\\\.\\\\.\\\\ y_n \\end{bmatrix}  \\quad \\mathbf{X} = \\begin{bmatrix} 1 & x_{11} & x_{12} & ... & x_{1k} \\\\ 1 & x_{21} & x_{22} & ... & x_{2k} \\\\ . & . & . & & . \\\\ 1 & x_{n1} & _{n2} & ... & x_{nk} \\end{bmatrix}$$  \n",
    "\n",
    "$$\\boldsymbol{\\beta} = \\begin{bmatrix} \\beta_0 \\\\ \\beta_1 \\\\ .\\\\.\\\\.\\\\ \\beta_k \\end{bmatrix}  \\quad \\boldsymbol{\\epsilon} = \\begin{bmatrix} \\epsilon_1 \\\\ \\epsilon_2 \\\\ .\\\\.\\\\.\\\\ \\epsilon_n \\end{bmatrix}$$  \n"
   ]
  }
 ]
}